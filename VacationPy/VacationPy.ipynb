{
 "cells": [
  {
   "cell_type": "markdown",
   "metadata": {},
   "source": [
    "# VacationPy\n",
    "----\n",
    "\n",
    "#### Note\n",
    "* Instructions have been included for each segment. You do not have to follow them exactly, but they are included to help you think through the steps."
   ]
  },
  {
   "cell_type": "code",
   "execution_count": 1,
   "metadata": {},
   "outputs": [],
   "source": [
    "# Dependencies and Setup\n",
    "import matplotlib.pyplot as plt\n",
    "import pandas as pd\n",
    "import numpy as np\n",
    "import requests\n",
    "import gmaps\n",
    "import os\n",
    "\n",
    "# Import API key\n",
    "from api_keys import g_key\n"
   ]
  },
  {
   "cell_type": "markdown",
   "metadata": {},
   "source": [
    "### Store Part I results into DataFrame\n",
    "* Load the csv exported in Part I to a DataFrame"
   ]
  },
  {
   "cell_type": "code",
   "execution_count": 2,
   "metadata": {},
   "outputs": [],
   "source": [
    "cities_pd = pd.read_csv(\"../WeatherPy/city_weather.csv\")"
   ]
  },
  {
   "cell_type": "markdown",
   "metadata": {},
   "source": [
    "### Humidity Heatmap\n",
    "* Configure gmaps.\n",
    "* Use the Lat and Lng as locations and Humidity as the weight.\n",
    "* Add Heatmap layer to map."
   ]
  },
  {
   "cell_type": "code",
   "execution_count": 3,
   "metadata": {},
   "outputs": [],
   "source": [
    "cities_pd_copy = cities_pd.copy()\n",
    "indexClouds = cities_pd_copy[cities_pd_copy[\"Cloudiness\"] > 0].index\n",
    "indexWind = cities_pd_copy[cities_pd_copy[\"Wind Speed\"] >= 10].index\n",
    "indexTemp = cities_pd_copy[(cities_pd_copy[\"Max Temperature\"] <= 70) & \n",
    "                           (cities_pd_copy[\"Max Temperature\"] > 79)].index"
   ]
  },
  {
   "cell_type": "code",
   "execution_count": 4,
   "metadata": {
    "scrolled": true
   },
   "outputs": [
    {
     "data": {
      "application/vnd.jupyter.widget-view+json": {
       "model_id": "3ee2c67ce81848cd910ebd52a4628077",
       "version_major": 2,
       "version_minor": 0
      },
      "text/plain": [
       "Figure(layout=FigureLayout(height='420px'))"
      ]
     },
     "metadata": {},
     "output_type": "display_data"
    }
   ],
   "source": [
    "# Configure gmaps with API key\n",
    "gmaps.configure(api_key=g_key)\n",
    "\n",
    "# Store 'Lat' and 'Lng' into  locations \n",
    "locations = cities_pd[[\"Latitude\", \"Longitude\"]].astype(float)\n",
    "humidity_layer = gmaps.heatmap_layer(locations, weights=cities_pd[\"Humidity\"])\n",
    "humidity_layer.max_intensity = float(cities_pd[\"Humidity\"].max())\n",
    "\n",
    "fig = gmaps.figure()\n",
    "fig.add_layer(humidity_layer)\n",
    "fig\n"
   ]
  },
  {
   "cell_type": "markdown",
   "metadata": {},
   "source": [
    "### Create new DataFrame fitting weather criteria\n",
    "* Narrow down the cities to fit weather conditions.\n",
    "* Drop any rows will null values."
   ]
  },
  {
   "cell_type": "code",
   "execution_count": 13,
   "metadata": {},
   "outputs": [],
   "source": [
    "cities_pd_copy = cities_pd.copy()\n",
    "#indexClouds = cities_pd_copy[cities_pd_copy[\"Cloudiness\"] > 0].index\n",
    "#indexWind = cities_pd_copy[cities_pd_copy[\"Wind Speed\"] >= 10].index\n",
    "#indexTemp = cities_pd_copy[(cities_pd_copy[\"Max Temperature\"] <= 70) & (cities_pd_copy[\"Max Temperature\"] > 79)].index\n",
    "indexIdeal = cities_pd_copy[(cities_pd_copy[\"Max Temperature\"] <= 70)|(cities_pd_copy[\"Max Temperature\"] > 79)|\n",
    "                            (cities_pd_copy[\"Wind Speed\"] >= 10)|(cities_pd_copy[\"Cloudiness\"] > 0)|(cities_pd_copy[\"Humidity\"] > 75)].index\n",
    "#cities_pd_copy.drop(indexClouds, inplace=True)\n",
    "#cities_pd_copy.drop(indexWind, inplace=True)\n",
    "#cities_pd_copy.drop(indexTemp, inplace=True)\n",
    "cities_pd_copy.drop(indexIdeal , inplace=True)\n",
    "#print(indexIdeal)\n",
    "cities_pd_copy = cities_pd_copy.dropna()"
   ]
  },
  {
   "cell_type": "markdown",
   "metadata": {},
   "source": [
    "### Hotel Map\n",
    "* Store into variable named `hotel_df`.\n",
    "* Add a \"Hotel Name\" column to the DataFrame.\n",
    "* Set parameters to search for hotels with 5000 meters.\n",
    "* Hit the Google Places API for each city's coordinates.\n",
    "* Store the first Hotel result into the DataFrame.\n",
    "* Plot markers on top of the heatmap."
   ]
  },
  {
   "cell_type": "code",
   "execution_count": 14,
   "metadata": {
    "scrolled": false
   },
   "outputs": [
    {
     "data": {
      "text/html": [
       "<div>\n",
       "<style scoped>\n",
       "    .dataframe tbody tr th:only-of-type {\n",
       "        vertical-align: middle;\n",
       "    }\n",
       "\n",
       "    .dataframe tbody tr th {\n",
       "        vertical-align: top;\n",
       "    }\n",
       "\n",
       "    .dataframe thead th {\n",
       "        text-align: right;\n",
       "    }\n",
       "</style>\n",
       "<table border=\"1\" class=\"dataframe\">\n",
       "  <thead>\n",
       "    <tr style=\"text-align: right;\">\n",
       "      <th></th>\n",
       "      <th>Unnamed: 0</th>\n",
       "      <th>City</th>\n",
       "      <th>Cloudiness</th>\n",
       "      <th>Country</th>\n",
       "      <th>Date</th>\n",
       "      <th>Humidity</th>\n",
       "      <th>Latitude</th>\n",
       "      <th>Longitude</th>\n",
       "      <th>Max Temperature</th>\n",
       "      <th>Wind Speed</th>\n",
       "      <th>Hotel Name</th>\n",
       "    </tr>\n",
       "  </thead>\n",
       "  <tbody>\n",
       "    <tr>\n",
       "      <th>219</th>\n",
       "      <td>219</td>\n",
       "      <td>Jardim</td>\n",
       "      <td>0</td>\n",
       "      <td>BR</td>\n",
       "      <td>1580011955</td>\n",
       "      <td>68</td>\n",
       "      <td>-21.48</td>\n",
       "      <td>-56.14</td>\n",
       "      <td>71.04</td>\n",
       "      <td>3.85</td>\n",
       "      <td></td>\n",
       "    </tr>\n",
       "    <tr>\n",
       "      <th>288</th>\n",
       "      <td>288</td>\n",
       "      <td>San Rafael</td>\n",
       "      <td>0</td>\n",
       "      <td>AR</td>\n",
       "      <td>1580011955</td>\n",
       "      <td>28</td>\n",
       "      <td>-34.62</td>\n",
       "      <td>-68.33</td>\n",
       "      <td>77.09</td>\n",
       "      <td>2.57</td>\n",
       "      <td></td>\n",
       "    </tr>\n",
       "    <tr>\n",
       "      <th>308</th>\n",
       "      <td>308</td>\n",
       "      <td>Jandaia do Sul</td>\n",
       "      <td>0</td>\n",
       "      <td>BR</td>\n",
       "      <td>1580011955</td>\n",
       "      <td>64</td>\n",
       "      <td>-23.60</td>\n",
       "      <td>-51.64</td>\n",
       "      <td>75.20</td>\n",
       "      <td>1.36</td>\n",
       "      <td></td>\n",
       "    </tr>\n",
       "    <tr>\n",
       "      <th>381</th>\n",
       "      <td>381</td>\n",
       "      <td>Nicoya</td>\n",
       "      <td>0</td>\n",
       "      <td>CR</td>\n",
       "      <td>1580011955</td>\n",
       "      <td>61</td>\n",
       "      <td>10.15</td>\n",
       "      <td>-85.45</td>\n",
       "      <td>78.80</td>\n",
       "      <td>5.82</td>\n",
       "      <td></td>\n",
       "    </tr>\n",
       "    <tr>\n",
       "      <th>383</th>\n",
       "      <td>383</td>\n",
       "      <td>Porto Murtinho</td>\n",
       "      <td>0</td>\n",
       "      <td>BR</td>\n",
       "      <td>1580011955</td>\n",
       "      <td>48</td>\n",
       "      <td>-21.70</td>\n",
       "      <td>-57.88</td>\n",
       "      <td>74.17</td>\n",
       "      <td>1.97</td>\n",
       "      <td></td>\n",
       "    </tr>\n",
       "  </tbody>\n",
       "</table>\n",
       "</div>"
      ],
      "text/plain": [
       "     Unnamed: 0            City  Cloudiness Country        Date  Humidity  \\\n",
       "219         219          Jardim           0      BR  1580011955        68   \n",
       "288         288      San Rafael           0      AR  1580011955        28   \n",
       "308         308  Jandaia do Sul           0      BR  1580011955        64   \n",
       "381         381          Nicoya           0      CR  1580011955        61   \n",
       "383         383  Porto Murtinho           0      BR  1580011955        48   \n",
       "\n",
       "     Latitude  Longitude  Max Temperature  Wind Speed Hotel Name  \n",
       "219    -21.48     -56.14            71.04        3.85             \n",
       "288    -34.62     -68.33            77.09        2.57             \n",
       "308    -23.60     -51.64            75.20        1.36             \n",
       "381     10.15     -85.45            78.80        5.82             \n",
       "383    -21.70     -57.88            74.17        1.97             "
      ]
     },
     "execution_count": 14,
     "metadata": {},
     "output_type": "execute_result"
    }
   ],
   "source": [
    "hotel_df = cities_pd_copy\n",
    "hotel_df[\"Hotel Name\"]=\"\"\n",
    "hotel_df"
   ]
  },
  {
   "cell_type": "code",
   "execution_count": 15,
   "metadata": {},
   "outputs": [
    {
     "data": {
      "text/html": [
       "<div>\n",
       "<style scoped>\n",
       "    .dataframe tbody tr th:only-of-type {\n",
       "        vertical-align: middle;\n",
       "    }\n",
       "\n",
       "    .dataframe tbody tr th {\n",
       "        vertical-align: top;\n",
       "    }\n",
       "\n",
       "    .dataframe thead th {\n",
       "        text-align: right;\n",
       "    }\n",
       "</style>\n",
       "<table border=\"1\" class=\"dataframe\">\n",
       "  <thead>\n",
       "    <tr style=\"text-align: right;\">\n",
       "      <th></th>\n",
       "      <th>Unnamed: 0</th>\n",
       "      <th>City</th>\n",
       "      <th>Cloudiness</th>\n",
       "      <th>Country</th>\n",
       "      <th>Date</th>\n",
       "      <th>Humidity</th>\n",
       "      <th>Latitude</th>\n",
       "      <th>Longitude</th>\n",
       "      <th>Max Temperature</th>\n",
       "      <th>Wind Speed</th>\n",
       "      <th>Hotel Name</th>\n",
       "    </tr>\n",
       "  </thead>\n",
       "  <tbody>\n",
       "    <tr>\n",
       "      <th>219</th>\n",
       "      <td>219</td>\n",
       "      <td>Jardim</td>\n",
       "      <td>0</td>\n",
       "      <td>BR</td>\n",
       "      <td>1580011955</td>\n",
       "      <td>68</td>\n",
       "      <td>-21.48</td>\n",
       "      <td>-56.14</td>\n",
       "      <td>71.04</td>\n",
       "      <td>3.85</td>\n",
       "      <td>Hotel Estância</td>\n",
       "    </tr>\n",
       "    <tr>\n",
       "      <th>288</th>\n",
       "      <td>288</td>\n",
       "      <td>San Rafael</td>\n",
       "      <td>0</td>\n",
       "      <td>AR</td>\n",
       "      <td>1580011955</td>\n",
       "      <td>28</td>\n",
       "      <td>-34.62</td>\n",
       "      <td>-68.33</td>\n",
       "      <td>77.09</td>\n",
       "      <td>2.57</td>\n",
       "      <td>Amukan Guest House</td>\n",
       "    </tr>\n",
       "    <tr>\n",
       "      <th>308</th>\n",
       "      <td>308</td>\n",
       "      <td>Jandaia do Sul</td>\n",
       "      <td>0</td>\n",
       "      <td>BR</td>\n",
       "      <td>1580011955</td>\n",
       "      <td>64</td>\n",
       "      <td>-23.60</td>\n",
       "      <td>-51.64</td>\n",
       "      <td>75.20</td>\n",
       "      <td>1.36</td>\n",
       "      <td>Hotel União</td>\n",
       "    </tr>\n",
       "    <tr>\n",
       "      <th>381</th>\n",
       "      <td>381</td>\n",
       "      <td>Nicoya</td>\n",
       "      <td>0</td>\n",
       "      <td>CR</td>\n",
       "      <td>1580011955</td>\n",
       "      <td>61</td>\n",
       "      <td>10.15</td>\n",
       "      <td>-85.45</td>\n",
       "      <td>78.80</td>\n",
       "      <td>5.82</td>\n",
       "      <td>Hotel Doña Marta</td>\n",
       "    </tr>\n",
       "    <tr>\n",
       "      <th>383</th>\n",
       "      <td>383</td>\n",
       "      <td>Porto Murtinho</td>\n",
       "      <td>0</td>\n",
       "      <td>BR</td>\n",
       "      <td>1580011955</td>\n",
       "      <td>48</td>\n",
       "      <td>-21.70</td>\n",
       "      <td>-57.88</td>\n",
       "      <td>74.17</td>\n",
       "      <td>1.97</td>\n",
       "      <td>Hotel Saladero Cue</td>\n",
       "    </tr>\n",
       "  </tbody>\n",
       "</table>\n",
       "</div>"
      ],
      "text/plain": [
       "     Unnamed: 0            City  Cloudiness Country        Date  Humidity  \\\n",
       "219         219          Jardim           0      BR  1580011955        68   \n",
       "288         288      San Rafael           0      AR  1580011955        28   \n",
       "308         308  Jandaia do Sul           0      BR  1580011955        64   \n",
       "381         381          Nicoya           0      CR  1580011955        61   \n",
       "383         383  Porto Murtinho           0      BR  1580011955        48   \n",
       "\n",
       "     Latitude  Longitude  Max Temperature  Wind Speed          Hotel Name  \n",
       "219    -21.48     -56.14            71.04        3.85      Hotel Estância  \n",
       "288    -34.62     -68.33            77.09        2.57  Amukan Guest House  \n",
       "308    -23.60     -51.64            75.20        1.36         Hotel União  \n",
       "381     10.15     -85.45            78.80        5.82    Hotel Doña Marta  \n",
       "383    -21.70     -57.88            74.17        1.97  Hotel Saladero Cue  "
      ]
     },
     "execution_count": 15,
     "metadata": {},
     "output_type": "execute_result"
    }
   ],
   "source": [
    "# params dictionary to update each iteration\n",
    "params = {\n",
    "    \"radius\": 5000,\n",
    "    \"keyword\": \"hotel\",\n",
    "    \"key\": g_key\n",
    "}\n",
    "\n",
    "\n",
    "# Use the lat/lng we recovered to identify hotels\n",
    "for index, row in cities_pd_copy.iterrows():\n",
    "    # get lat, lng from df\n",
    "    lat = row[\"Latitude\"]\n",
    "    lng = row[\"Longitude\"]\n",
    "\n",
    "    # change location each iteration while leaving original params in place\n",
    "    params[\"location\"] = f\"{lat},{lng}\"\n",
    "\n",
    "    # Use the search term: \"International Airport\" and our lat/lng\n",
    "    base_url = \"https://maps.googleapis.com/maps/api/place/nearbysearch/json\"\n",
    "\n",
    "    response = requests.get(base_url, params=params)\n",
    "    response = response.json()\n",
    "    \n",
    "    try:\n",
    "        hotel_df.loc[index, \"Hotel Name\"] = response[\"results\"][0][\"name\"]\n",
    "    except (KeyError, IndexError):\n",
    "       print(\"Missing field/result... skipping.\")\n",
    "hotel_df"
   ]
  },
  {
   "cell_type": "code",
   "execution_count": null,
   "metadata": {},
   "outputs": [],
   "source": [
    "\n"
   ]
  },
  {
   "cell_type": "code",
   "execution_count": 16,
   "metadata": {},
   "outputs": [],
   "source": [
    "# NOTE: Do not change any of the code in this cell\n",
    "\n",
    "# Using the template add the hotel marks to the heatmap\n",
    "info_box_template = \"\"\"\n",
    "<dl>\n",
    "<dt>Name</dt><dd>{Hotel Name}</dd>\n",
    "<dt>City</dt><dd>{City}</dd>\n",
    "<dt>Country</dt><dd>{Country}</dd>\n",
    "</dl>\n",
    "\"\"\"\n",
    "# Store the DataFrame Row\n",
    "# NOTE: be sure to update with your DataFrame name\n",
    "hotel_info = [info_box_template.format(**row) for index, row in cities_pd_copy.iterrows()]\n",
    "locations = hotel_df[[\"Latitude\", \"Longitude\"]]"
   ]
  },
  {
   "cell_type": "code",
   "execution_count": 17,
   "metadata": {},
   "outputs": [
    {
     "data": {
      "application/vnd.jupyter.widget-view+json": {
       "model_id": "de5c97fce631485d924937a078c5863a",
       "version_major": 2,
       "version_minor": 0
      },
      "text/plain": [
       "Figure(layout=FigureLayout(height='420px'))"
      ]
     },
     "metadata": {},
     "output_type": "display_data"
    }
   ],
   "source": [
    "# Add marker layer ontop of heat map\n",
    "hotels = hotel_df[\"Hotel Name\"].tolist()\n",
    "cities = hotel_df[\"City\"].tolist()\n",
    "countries = hotel_df[\"Country\"].tolist()\n",
    "\n",
    "\n",
    "marker_layer = gmaps.symbol_layer(\n",
    "    locations,\n",
    "    info_box_content=hotel_info\n",
    "    )\n",
    "                      \n",
    "    \n",
    "\n",
    "# Display Map\n",
    "fig = gmaps.figure()\n",
    "fig.add_layer(humidity_layer)\n",
    "fig.add_layer(marker_layer)\n",
    "fig\n"
   ]
  },
  {
   "cell_type": "code",
   "execution_count": null,
   "metadata": {},
   "outputs": [],
   "source": []
  }
 ],
 "metadata": {
  "kernelspec": {
   "display_name": "Python 3",
   "language": "python",
   "name": "python3"
  },
  "language_info": {
   "codemirror_mode": {
    "name": "ipython",
    "version": 3
   },
   "file_extension": ".py",
   "mimetype": "text/x-python",
   "name": "python",
   "nbconvert_exporter": "python",
   "pygments_lexer": "ipython3",
   "version": "3.7.3"
  },
  "latex_envs": {
   "LaTeX_envs_menu_present": true,
   "autoclose": false,
   "autocomplete": true,
   "bibliofile": "biblio.bib",
   "cite_by": "apalike",
   "current_citInitial": 1,
   "eqLabelWithNumbers": true,
   "eqNumInitial": 1,
   "hotkeys": {
    "equation": "Ctrl-E",
    "itemize": "Ctrl-I"
   },
   "labels_anchors": false,
   "latex_user_defs": false,
   "report_style_numbering": false,
   "user_envs_cfg": false
  }
 },
 "nbformat": 4,
 "nbformat_minor": 2
}
